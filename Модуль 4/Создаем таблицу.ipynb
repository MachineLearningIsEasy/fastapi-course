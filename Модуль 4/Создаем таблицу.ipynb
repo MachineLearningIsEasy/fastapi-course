{
 "cells": [
  {
   "cell_type": "code",
   "execution_count": 7,
   "id": "d29e065d",
   "metadata": {},
   "outputs": [],
   "source": [
    "import psycopg2"
   ]
  },
  {
   "cell_type": "code",
   "execution_count": 8,
   "id": "a3211a94",
   "metadata": {},
   "outputs": [],
   "source": [
    "HOST_DB = '0.0.0.0'\n",
    "PORT = 5432\n",
    "POSTGRES_USER='unicorn_user'\n",
    "POSTGRES_PASSWORD='magical_password'\n",
    "POSTGRES_DB='rainbow_database'"
   ]
  },
  {
   "cell_type": "code",
   "execution_count": 9,
   "id": "0370ef27",
   "metadata": {},
   "outputs": [],
   "source": [
    "conn = psycopg2.connect(host=HOST_DB, port = 5432, database=POSTGRES_DB, user=POSTGRES_USER, password=POSTGRES_PASSWORD)\n",
    "cur = conn.cursor()\n",
    "cur.execute(\"CREATE TABLE phonebook_2 ( user_id serial PRIMARY KEY, firstname VARCHAR ( 255 ) NOT NULL, lastname VARCHAR ( 255 ) NOT NULL, phone_number VARCHAR ( 255 ) NOT NULL, age INT);\")\n",
    "conn.commit()\n",
    "conn.close()\n",
    "cur.close()\n"
   ]
  },
  {
   "cell_type": "code",
   "execution_count": null,
   "id": "216c3ce5",
   "metadata": {},
   "outputs": [],
   "source": []
  }
 ],
 "metadata": {
  "kernelspec": {
   "display_name": "Python 3 (ipykernel)",
   "language": "python",
   "name": "python3"
  },
  "language_info": {
   "codemirror_mode": {
    "name": "ipython",
    "version": 3
   },
   "file_extension": ".py",
   "mimetype": "text/x-python",
   "name": "python",
   "nbconvert_exporter": "python",
   "pygments_lexer": "ipython3",
   "version": "3.9.6"
  }
 },
 "nbformat": 4,
 "nbformat_minor": 5
}
